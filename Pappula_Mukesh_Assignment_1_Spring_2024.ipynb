{
  "cells": [
    {
      "cell_type": "markdown",
      "metadata": {
        "id": "view-in-github",
        "colab_type": "text"
      },
      "source": [
        "<a href=\"https://colab.research.google.com/github/Mukeshreddy3699/Mukesh_INFO5731/blob/main/Pappula_Mukesh_Assignment_1_Spring_2024.ipynb\" target=\"_parent\"><img src=\"https://colab.research.google.com/assets/colab-badge.svg\" alt=\"Open In Colab\"/></a>"
      ]
    },
    {
      "cell_type": "markdown",
      "metadata": {
        "id": "Ryk8D1Q4Wsrp"
      },
      "source": [
        "# **INFO5731 Assignment One**"
      ]
    },
    {
      "cell_type": "markdown",
      "source": [
        "This assignment includes range of programming tasks and data analysis exercises, aiming to enhance your Python skills and proficiency in string manipulation, numerical computations, and data science. Follow the instructions carefully and design well-structured Python programs to address each question.\n",
        "\n",
        "Late Submission will have a penalty of 10% reduction for each day after the deadline."
      ],
      "metadata": {
        "id": "qcP6re2g5A5r"
      }
    },
    {
      "cell_type": "markdown",
      "metadata": {
        "id": "JkzR8cFAyGik"
      },
      "source": [
        "# Question 1 (10 points).\n",
        "\n",
        "The formula that describes the volume V of a hemisphere with radius r is the following:\n",
        "\n",
        "$ V=\\frac{2}{3}\\ast\\ \\pi\\ast\\ r^3 $\n",
        "\n",
        "Write a program to calculate the value of V when r is in the range of even numbers from 1-20. Output the result in the following format:\n",
        "\n",
        "\tr\tV\n",
        "\t2\t…\n",
        "\t4\t…\n",
        "\t6\t…\n",
        "\t.\n",
        "\t.\n",
        "\t.\n",
        "\t20\t…\n"
      ]
    },
    {
      "cell_type": "code",
      "execution_count": 18,
      "metadata": {
        "id": "jDyTKYs-yGit",
        "colab": {
          "base_uri": "https://localhost:8080/"
        },
        "outputId": "fcc1046d-6386-4b30-eed3-f7c815be5e67"
      },
      "outputs": [
        {
          "output_type": "stream",
          "name": "stdout",
          "text": [
            "radius Volume\n",
            "2 16.746666666666666\n",
            "4 133.97333333333333\n",
            "6 452.15999999999997\n",
            "8 1071.7866666666666\n",
            "10 2093.3333333333335\n",
            "12 3617.2799999999997\n",
            "14 5744.106666666667\n",
            "16 8574.293333333333\n",
            "18 12208.32\n"
          ]
        }
      ],
      "source": [
        "print('radius' , 'Volume')\n",
        "for r in range(1, 20):\n",
        "    if r % 2 == 0:\n",
        "\n",
        "        V = (2 / 3) * 3.14 * r**3  # formula to calculate Volume\n",
        "        print(r,V)\n",
        "\n"
      ]
    },
    {
      "cell_type": "markdown",
      "metadata": {
        "id": "90_NR8c5XGWc"
      },
      "source": [
        "# Question 2 (20 points)\n",
        "\n",
        "(a) Write a Python program to generate a sequence of 12 random numbers falling within the range of 50 to 150.\n",
        "\n",
        "(b) Arrange the generated numbers in ascending order. Display the sorted list.\n",
        "\n",
        "(c) Extend the program to arrange the numbers in descending order as well. Present the sorted list accordingly.\n",
        "\n",
        "(d) Compute and output the average of the entire group of generated numbers.\n",
        "\n",
        "(e) Enhance the program to calculate and display the average of the first 6 numbers from both the ascending and descending sorted lists."
      ]
    },
    {
      "cell_type": "code",
      "execution_count": 5,
      "metadata": {
        "id": "5QX6bJjGWXY9",
        "colab": {
          "base_uri": "https://localhost:8080/"
        },
        "outputId": "642cbc1e-aff9-4ef6-ae7e-b3b5d7d76f9d"
      },
      "outputs": [
        {
          "output_type": "stream",
          "name": "stdout",
          "text": [
            "Ascending order: [56, 60, 64, 71, 85, 91, 105, 111, 120, 126, 131, 148]\n",
            "Descending order: [56, 60, 64, 71, 85, 91, 105, 111, 120, 126, 131]\n",
            "Avg of all numbers: 97.33333333333333\n",
            "Avg of first 6 numbs in ascending order: 71.16666666666667\n",
            "Avg of first 6 numbs in descending order: 71.16666666666667\n"
          ]
        }
      ],
      "source": [
        "# Write code for each of the sub parts with proper comments.\n",
        "import random\n",
        "\n",
        "random_numbers = [random.randint(50, 150) for _ in range(12)]\n",
        "sorted_asc = sorted(random_numbers)\n",
        "print(\"Ascending order:\", sorted_asc)\n",
        "sorted_desc = sorted_asc[:-1]\n",
        "print(\"Descending order:\", sorted_desc)\n",
        "avg_all = sum(random_numbers) / len(random_numbers)\n",
        "print(\"Avg of all numbers:\", avg_all)\n",
        "avg_first_6_asc = sum(sorted_asc[:6]) / 6\n",
        "avg_first_6_desc = sum(sorted_desc[:6]) / 6\n",
        "\n",
        "print(\"Avg of first 6 numbs in ascending order:\", avg_first_6_asc)\n",
        "print(\"Avg of first 6 numbs in descending order:\", avg_first_6_desc)"
      ]
    },
    {
      "cell_type": "markdown",
      "metadata": {
        "id": "1F_PZdH9Sh49"
      },
      "source": [
        "# Question 3 (20 points).\n",
        "\n",
        "Create a Python program that encompasses various string manipulation task:\n",
        "\n",
        "(a) Prompt the user to input two sentences.\n",
        "\n",
        "(b) Transform each sentence into a list, where each element corresponds to a word in the sentence. For example, if the sentences are \"Hello, how are you doing today?\" and \"This is an example sentence for the program!\"\n",
        "\n",
        "The program should output:\n",
        "['Hello', ',', 'how', 'are', 'you', 'doing', 'today', '?', 'This', 'is', 'an', 'example', 'sentence', 'for', 'the', 'program', '!']\n",
        "\n",
        "(c) Compare the two sentences. Print out a list of words that occur in both sentences.\n",
        "\n",
        "(d) Remove any punctuation from the sentence and print the sanitized sentences. It should remove at least the following characters, but it can remove more: period(“.”), comma (“,”), semicolon (“;”), and colon (“:”).\n",
        "\n",
        "(e) Count the number of vowels in each of the sentences. Print out each vowel and the occurrences  in the each of the two sentences separately, such as:\n",
        "\n",
        "Sentence1: a:2, e:2, i:0, etc.\n",
        "Sentence2: a:1, e:2, i:2, etc.\n",
        "\n",
        "Design a well-structured Python program to execute these tasks efficiently."
      ]
    },
    {
      "cell_type": "code",
      "execution_count": 26,
      "metadata": {
        "id": "Y0oOSlsOS0cq",
        "colab": {
          "base_uri": "https://localhost:8080/"
        },
        "outputId": "4a331e58-4452-4ea9-9eff-21911cc8ad81"
      },
      "outputs": [
        {
          "output_type": "stream",
          "name": "stdout",
          "text": [
            "first sentence: hello !\n",
            "second sentence: hii !!\n",
            "['hello', '!']\n",
            "Common words: []\n",
            "{'a': 0, 'e': 1, 'i': 0, 'o': 1, 'u': 0}\n",
            "Sanitized first sentence: hello \n",
            "Sanitized second sentence: hii \n"
          ]
        }
      ],
      "source": [
        "# Your code here\n",
        "import re\n",
        "\n",
        "x1 = input(\"first sentence: \")\n",
        "x2 = input(\"second sentence: \")\n",
        "p = re.findall(r\"\\b\\w+\\b|[.,!?]\", x1)\n",
        "print( p)\n",
        "def find_common_words(sen1, sen2):     #  common words between the two sentences\n",
        "    w1 = set(sen1.split())\n",
        "    w2 = set(sen2.split())\n",
        "    common = w1 & w2\n",
        "    return list(common)\n",
        "\n",
        "common = find_common_words(x1, x2)\n",
        "print(\"Common words:\", common)\n",
        "\n",
        "def count_vowels(sentence):    # Counting vowels\n",
        "    vowels = 'aeiou'\n",
        "    counts = {v: sentence.lower().count(v) for v in vowels}\n",
        "    return counts\n",
        "\n",
        "vowel_counts = count_vowels(x1)\n",
        "print(vowel_counts)\n",
        "\n",
        "def remove_punctuation(sentence):\n",
        "    return re.sub(r'[^\\w\\s]', '', sentence)\n",
        "\n",
        "clean_sen1 = remove_punctuation(x1)\n",
        "clean_sen2 = remove_punctuation(x2)\n",
        "print(\"Sanitized first sentence:\", clean_sen1)\n",
        "print(\"Sanitized second sentence:\", clean_sen2)"
      ]
    },
    {
      "cell_type": "markdown",
      "source": [
        "# Question 4 (20 Points)"
      ],
      "metadata": {
        "id": "OP4-5qxAtInv"
      }
    },
    {
      "cell_type": "markdown",
      "source": [
        "Design and implement a simple command-line calculator program. The program should handle both integers and floating-point numbers.\n",
        "\n",
        "(a) Write program that takes a mathematical expression as input and evaluates it. The program should support addition, subtraction, multiplication, and division.\n",
        "\n",
        "(b) Extend the calculator to handle parentheses in mathematical expressions. Implement the necessary logic to evaluate expressions with nested parentheses.\n",
        "\n",
        "(c) Enhance your calculator to include additional mathematical operations such as exponentiation, square root, and modulus.\n",
        "\n",
        "(d) Implement error handling in the calculator program. Handle cases such as division by zero and invalid input expressions. Provide meaningful error messages.\n",
        "\n",
        "(e) Implement a command to exit the calculator."
      ],
      "metadata": {
        "id": "uzN4_hDptK9U"
      }
    },
    {
      "cell_type": "code",
      "source": [
        "# Your code here\n",
        "def add(a, b):\n",
        "    return a + b\n",
        "\n",
        "def sub(a, b):\n",
        "    return a - b\n",
        "\n",
        "def multiply(a, b):\n",
        "    return a * b\n",
        "\n",
        "def divide(a, b):\n",
        "    if b != 0:\n",
        "        return a / b\n",
        "    else:\n",
        "        return \"error division by 0 \"\n",
        "\n",
        "def exp(b, ex):\n",
        "    return b ** ex\n",
        "\n",
        "def square_root(value):\n",
        "    if value >= 0:\n",
        "        return value ** 0.5\n",
        "    else:\n",
        "        return \"Error: Cannot take square root of a negative number\"\n",
        "\n",
        "def mod(a, b):\n",
        "    if b != 0:\n",
        "        return a % b\n",
        "    else:\n",
        "        return \"Error: Modulus by 0 error\"\n",
        "\n",
        "def calculate(number1, number2, operation):\n",
        "    if operation == '+':\n",
        "        return add(number1, number2)\n",
        "    elif operation == '-':\n",
        "        return sub(number1, number2)\n",
        "    elif operation == '*':\n",
        "        return multiply(number1, number2)\n",
        "    elif operation == '/':\n",
        "        return divide(number1, number2)\n",
        "    elif operation == '**':\n",
        "        return exp(number1, number2)\n",
        "    elif operation == '|':\n",
        "        return mod(number1, number2)\n",
        "    else:\n",
        "        return \"Invalid operator\"\n",
        "\n",
        "def run_calculator():\n",
        "    print(\"Welcome to the Simple Calculator\")\n",
        "    while True:\n",
        "        try:\n",
        "            num1 = float(input(\"Enter the first number: \"))\n",
        "            operator = input(\"Enter the operator (+, -, *, /, **, |): \")\n",
        "            num2 = float(input(\"Enter the second number: \"))\n",
        "            result = calculate(num1, num2, operator)\n",
        "            print(f\"{num1} {operator} {num2} = {result}\")\n",
        "        except ValueError:\n",
        "            print(\"Error: Invalid input. Please enter num values.\")\n",
        "\n",
        "        continue_choice = input(\"Do you want to proceed for another calculation? (y/n): \").lower()\n",
        "        if continue_choice == 'n':\n",
        "            print(\"Exiting the calculator.\")\n",
        "            break\n",
        "\n",
        "if __name__ == \"__main__\":\n",
        "    run_calculator()\n"
      ],
      "metadata": {
        "id": "8nQnVxjJuYtu",
        "colab": {
          "base_uri": "https://localhost:8080/"
        },
        "outputId": "38de1129-7e9b-4572-a394-ec426ea92e27"
      },
      "execution_count": 1,
      "outputs": [
        {
          "output_type": "stream",
          "name": "stdout",
          "text": [
            "Welcome to the Simple Calculator\n",
            "Enter the first number: 5\n",
            "Enter the operator (+, -, *, /, **, |): +\n",
            "Enter the second number: 5\n",
            "5.0 + 5.0 = 10.0\n",
            "Do you want to proceed for another calculation? (y/n): n\n",
            "Exiting the calculator.\n"
          ]
        }
      ]
    },
    {
      "cell_type": "markdown",
      "metadata": {
        "id": "z3tBE7E-Xn5X"
      },
      "source": [
        "# Question 5 (30 points).\n",
        "\n",
        "In the field of Data Science, data is often formatted as a comma-delimited (CSV) file, where each line in a file corresponds to a field's value. Refer to Chapter 9 (p. 106) for more information on comma-delimited files.\n",
        "\n",
        "To answer this question, you will need to download the file [Assignment1_denton_housing.csv](https://raw.githubusercontent.com/unt-iialab/info5731-spring2022/main/assignments/Assignment1_denton_housing.csv) included with this assignment. The file contains statistics about housing in the city of Denton from 2008 to 2014. Write a program to implement the following questions.\n",
        "\n",
        "(a) (5 pts) Calculate the difference in the number of Occupied Housing Units from year to year and print it. The difference must be calculated for the consecutive years such as 2008-2009, 2009-2010 etc. Finally, print the values in the ascending order.\n",
        "\n",
        "(b) (5 pts) For all the years, calculate the percentage of housing units which are vacant an occupied. Print the results in the following format:\n",
        "\n",
        "Year Vacant Housing Units Occupied Housing Units\n",
        "\n",
        "    2008  30%   70%                          \n",
        "\t2009 ----- -----\n",
        "\t2010 ----- -----\n",
        "    2011 ----- -----\n",
        "\t2012 ----- -----\n",
        "    2013 ----- -----\n",
        "\t2014 ----- -----\n",
        "  \n",
        "  \n",
        "\n",
        "(c) (10 pts) Calculate and print the valued and years in which the highest number of housing units were vacant and occupied. Print the results in the following format:  \n",
        "\n",
        "                              Year\tValue\n",
        "\tVacant Housing Units\t  -----   -----\n",
        "\tOccupied Housing Units\t-----   -----\n",
        "\n",
        "(d) (10 pts) Calculate the harmonic mean of the total housing units and print it out. You can find the information about harmonic mean here: https://ncalculators.com/statistics/harmonic-mean-calculator.htm"
      ]
    },
    {
      "cell_type": "code",
      "execution_count": 4,
      "metadata": {
        "id": "lqGYuHBhcsRH",
        "colab": {
          "base_uri": "https://localhost:8080/"
        },
        "outputId": "440f693a-4194-45f2-b052-fb987af7ceba"
      },
      "outputs": [
        {
          "output_type": "stream",
          "name": "stdout",
          "text": [
            "Differences in number of Occupied Housing Units:\n",
            "[-5091, -2622, -1565, -1404, 303, 795]\n",
            "\n",
            "Percentage of Vacant and Occupied Housing Units:\n",
            "      Vacant (%)  Occupied (%)\n",
            "year                          \n",
            "2014        5.73         94.27\n",
            "2013        8.80         91.20\n",
            "2012        6.68         93.32\n",
            "2011        9.38         90.62\n",
            "2010        8.14         91.86\n",
            "2009        9.07         90.93\n",
            "2008       10.88         89.12\n",
            "\n",
            "Max Vacant Units: 2008, Value: 4483\n",
            "Max Occupied Units: 2014, Value: 46295\n",
            "\n",
            "Harmonic Mean of Total Housing Units: 44398.28543969185\n"
          ]
        }
      ],
      "source": [
        "import pandas as pd\n",
        "\n",
        "\n",
        "df = pd.read_csv('Assignment1_denton_housing.csv')\n",
        "\n",
        "#Part a: Calculate differences in Occupied Housing Units\n",
        "occupied_units = df[df['title_field'] == 'Occupied Housing Units']\n",
        "occupied_diff = occupied_units['value'].diff().dropna().astype(int)\n",
        "sorted_occupied_diff = occupied_diff.sort_values().tolist()\n",
        "print(\"Differences in number of Occupied Housing Units:\")\n",
        "print(sorted_occupied_diff)\n",
        "\n",
        "#Part b: Calculate percentages of vacant and occupied units\n",
        "total_units = df[df['title_field'] == 'Total Housing Units'].set_index('year')['value']\n",
        "vacant_units = df[df['title_field'] == 'Vacant Housing Units'].set_index('year')['value']\n",
        "occupied_units = df[df['title_field'] == 'Occupied Housing Units'].set_index('year')['value']\n",
        "percentages_df = pd.DataFrame({\n",
        "    'Vacant (%)': (vacant_units / total_units * 100).round(2),\n",
        "    'Occupied (%)': (occupied_units / total_units * 100).round(2)\n",
        "})                                                             #percentage of vacant and occupied units based on total units\n",
        "print(\"\\nPercentage of Vacant and Occupied Housing Units:\")\n",
        "print(percentages_df)\n",
        "\n",
        "#Part c: Finding maximum vacant and occupied units\n",
        "max_vacant_units = df[df['title_field'] == 'Vacant Housing Units'].nlargest(1, 'value')\n",
        "max_occupied_units = df[df['title_field'] == 'Occupied Housing Units'].nlargest(1, 'value')\n",
        "print(f\"\\nMax Vacant Units: {max_vacant_units['year'].values[0]}, Value: {max_vacant_units['value'].values[0]}\")\n",
        "print(f\"Max Occupied Units: {max_occupied_units['year'].values[0]}, Value: {max_occupied_units['value'].values[0]}\")\n",
        "\n",
        "#Part d: Calculate harmonic mean of total housing units\n",
        "harmonic_mean_total_units = 1 / (1 / total_units).mean()       #Harmonic mean\n",
        "print(\"\\nHarmonic Mean of Total Housing Units:\", harmonic_mean_total_units)\n"
      ]
    },
    {
      "cell_type": "markdown",
      "source": [
        "# Mandatory Question\n",
        "\n",
        "Provide your thoughts on the assignment. What did you find challenging, and what aspects did you enjoy? Your opinion on the provided time to complete the assignment. Share any suggestions for improvement. Your feedback will be valuable for enhancing the learning experience."
      ],
      "metadata": {
        "id": "q8BFCvWp32cf"
      }
    },
    {
      "cell_type": "code",
      "source": [
        "The assignment took me more time to do as i was new to python and managed to clear my errors and complete my assignment in time"
      ],
      "metadata": {
        "id": "_e557s2w4BpK"
      },
      "execution_count": null,
      "outputs": []
    }
  ],
  "metadata": {
    "colab": {
      "provenance": [],
      "include_colab_link": true
    },
    "kernelspec": {
      "display_name": "Python 3 (ipykernel)",
      "language": "python",
      "name": "python3"
    },
    "language_info": {
      "codemirror_mode": {
        "name": "ipython",
        "version": 3
      },
      "file_extension": ".py",
      "mimetype": "text/x-python",
      "name": "python",
      "nbconvert_exporter": "python",
      "pygments_lexer": "ipython3",
      "version": "3.9.12"
    }
  },
  "nbformat": 4,
  "nbformat_minor": 0
}